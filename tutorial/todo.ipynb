{
 "cells": [
  {
   "cell_type": "code",
   "execution_count": 1,
   "id": "329f767f",
   "metadata": {},
   "outputs": [],
   "source": [
    "from todo.models import Todo\n",
    "from datetime import datetime\n",
    "from todo import db, create_app\n",
    "\n",
    "app = create_app()\n",
    "\n"
   ]
  },
  {
   "cell_type": "code",
   "execution_count": null,
   "id": "039b4309",
   "metadata": {},
   "outputs": [],
   "source": [
    "with app.app_context():\n",
    "    todo = Todo(title='flask 공부', description='flask 공부', created=datetime.now()) #todo객체만듦\n",
    "    db.session.add(todo)\n",
    "    db.session.commit()"
   ]
  }
 ],
 "metadata": {
  "kernelspec": {
   "display_name": "venv",
   "language": "python",
   "name": "python3"
  },
  "language_info": {
   "codemirror_mode": {
    "name": "ipython",
    "version": 3
   },
   "file_extension": ".py",
   "mimetype": "text/x-python",
   "name": "python",
   "nbconvert_exporter": "python",
   "pygments_lexer": "ipython3",
   "version": "3.13.3"
  }
 },
 "nbformat": 4,
 "nbformat_minor": 5
}
