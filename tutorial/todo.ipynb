{
 "cells": [
  {
   "cell_type": "code",
   "execution_count": 1,
   "id": "329f767f",
   "metadata": {},
   "outputs": [],
   "source": [
    "from todo.models import Todo\n",
    "from datetime import datetime\n",
    "from todo import db, create_app\n",
    "\n",
    "app = create_app()\n",
    "\n"
   ]
  },
  {
   "cell_type": "code",
   "execution_count": null,
   "id": "039b4309",
   "metadata": {},
   "outputs": [],
   "source": [
    "#create\n",
    "\n",
    "with app.app_context():\n",
    "    todo = Todo(title='flask 공부', description='flask 공부', created=datetime.now()) #todo객체만듦\n",
    "    \n",
    "    db.session.add(todo)\n",
    "    db.session.commit()"
   ]
  },
  {
   "cell_type": "code",
   "execution_count": null,
   "id": "c8224ed9",
   "metadata": {},
   "outputs": [
    {
     "name": "stdout",
     "output_type": "stream",
     "text": [
      "<Todo 1>\n",
      "<Todo 2>\n",
      "<Todo 3>\n",
      "<Todo 4>\n",
      "<Todo 5>\n",
      "<Todo 6>\n",
      "<Todo 7>\n",
      "<Todo 8>\n",
      "<Todo 9>\n",
      "<Todo 10>\n"
     ]
    }
   ],
   "source": [
    "with app.app_context():\n",
    "    todos = Todo.query.all()\n",
    "    for todo in todos:\n",
    "        print(todo)"
   ]
  },
  {
   "cell_type": "code",
   "execution_count": 7,
   "id": "6eb3ad0c",
   "metadata": {},
   "outputs": [
    {
     "name": "stdout",
     "output_type": "stream",
     "text": [
      "[<Todo 1>]\n"
     ]
    }
   ],
   "source": [
    "# read\n",
    "with app.app_context():\n",
    "    todo = Todo.query.filter(Todo.id == 1).all()\n",
    "    print(todo)"
   ]
  },
  {
   "cell_type": "code",
   "execution_count": null,
   "id": "ff126f0a",
   "metadata": {},
   "outputs": [
    {
     "name": "stdout",
     "output_type": "stream",
     "text": [
      "<Todo 1>\n"
     ]
    }
   ],
   "source": [
    "# read\n",
    "with app.app_context():\n",
    "    # todo = Todo.query.get(1) #Flask-SQLAlchemy 1.x 방식\n",
    "    todo = db.session.get(Todo, 1) #SQLAlchemy 2.0 방식(권장)\n",
    "    print(todo)"
   ]
  },
  {
   "cell_type": "code",
   "execution_count": 13,
   "id": "f5680dd1",
   "metadata": {},
   "outputs": [],
   "source": [
    "# update\n",
    "with app.app_context():\n",
    "    todo = db.session.get(Todo, 1)\n",
    "    \n",
    "    if todo:\n",
    "        todo.title = '강아지 산책'\n",
    "        db.session.commit()"
   ]
  },
  {
   "cell_type": "code",
   "execution_count": null,
   "id": "2984dd6a",
   "metadata": {},
   "outputs": [],
   "source": [
    "# delete\n",
    "with app.app_context():\n",
    "    todo = db.session.get(Todo, 10)\n",
    "    db.session.delete(todo)\n",
    "    db.session.commit()"
   ]
  }
 ],
 "metadata": {
  "kernelspec": {
   "display_name": "venv",
   "language": "python",
   "name": "python3"
  },
  "language_info": {
   "codemirror_mode": {
    "name": "ipython",
    "version": 3
   },
   "file_extension": ".py",
   "mimetype": "text/x-python",
   "name": "python",
   "nbconvert_exporter": "python",
   "pygments_lexer": "ipython3",
   "version": "3.13.3"
  }
 },
 "nbformat": 4,
 "nbformat_minor": 5
}
