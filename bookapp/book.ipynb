{
 "cells": [
  {
   "cell_type": "code",
   "execution_count": 1,
   "id": "2e9e8199",
   "metadata": {},
   "outputs": [],
   "source": [
    "from book.models import Book\n",
    "from datetime import datetime\n",
    "from book import db, create_app\n",
    "\n",
    "app = create_app()\n"
   ]
  },
  {
   "cell_type": "code",
   "execution_count": null,
   "id": "71108968",
   "metadata": {},
   "outputs": [],
   "source": [
    "#create\n",
    "with app.app_context():\n",
    "    for i in range(300):\n",
    "        book = Book(title='Book title[%03d]' % i, \n",
    "                    author='author%d' % i,\n",
    "                    price = 25000,\n",
    "                    created=datetime.now()) #todo객체만듦\n",
    "        db.session.add(book)\n",
    "    db.session.commit()"
   ]
  }
 ],
 "metadata": {
  "kernelspec": {
   "display_name": "venv",
   "language": "python",
   "name": "python3"
  },
  "language_info": {
   "codemirror_mode": {
    "name": "ipython",
    "version": 3
   },
   "file_extension": ".py",
   "mimetype": "text/x-python",
   "name": "python",
   "nbconvert_exporter": "python",
   "pygments_lexer": "ipython3",
   "version": "3.13.3"
  }
 },
 "nbformat": 4,
 "nbformat_minor": 5
}
